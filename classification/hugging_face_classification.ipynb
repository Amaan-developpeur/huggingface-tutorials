{
 "cells": [
  {
   "cell_type": "markdown",
   "id": "af9b32ec-faa8-43ae-996d-d2bcd183637a",
   "metadata": {},
   "source": [
    "<h3>Hugging Face Pipelines</h3>\n",
    "<ul>\n",
    "    <li>It Already knows how to tokenize</li>\n",
    "    <li>Already has a pretrained models</li>\n",
    "    <li>For Classification, adds classification head and gives labels+scores</li>\n",
    "</ul>"
   ]
  },
  {
   "cell_type": "code",
   "execution_count": 2,
   "id": "b6132b44-24d3-411a-bbaa-bdd2759887fb",
   "metadata": {},
   "outputs": [],
   "source": [
    "import warnings\n",
    "\n",
    "warnings.filterwarnings(\"ignore\")"
   ]
  },
  {
   "cell_type": "code",
   "execution_count": 3,
   "id": "7d28716c-5146-4e42-9ef4-67cd941c04b9",
   "metadata": {},
   "outputs": [
    {
     "name": "stderr",
     "output_type": "stream",
     "text": [
      "No model was supplied, defaulted to distilbert/distilbert-base-uncased-finetuned-sst-2-english and revision 714eb0f (https://huggingface.co/distilbert/distilbert-base-uncased-finetuned-sst-2-english).\n",
      "Using a pipeline without specifying a model name and revision in production is not recommended.\n",
      "Device set to use cpu\n"
     ]
    },
    {
     "name": "stdout",
     "output_type": "stream",
     "text": [
      "[{'label': 'POSITIVE', 'score': 0.9998760223388672}]\n"
     ]
    }
   ],
   "source": [
    "from transformers import pipeline\n",
    "\n",
    "# Creating an Object\n",
    "classification = pipeline(\"text-classification\")\n",
    "print(classification(\"I really enjoyed the movie, it was fantastic\"))"
   ]
  },
  {
   "cell_type": "code",
   "execution_count": 4,
   "id": "82b479fe-1004-46c3-b9e3-dc1b34a5625d",
   "metadata": {},
   "outputs": [
    {
     "name": "stdout",
     "output_type": "stream",
     "text": [
      "{'label': 'POSITIVE', 'score': 0.9998775720596313}\n",
      "{'label': 'NEGATIVE', 'score': 0.9980985522270203}\n",
      "{'label': 'POSITIVE', 'score': 0.9951199293136597}\n",
      "{'label': 'POSITIVE', 'score': 0.9974551796913147}\n"
     ]
    }
   ],
   "source": [
    "sentences = [\n",
    "    \"The Movie Was Fantastic, I really enjoyed it\",\n",
    "    \"There was alot of corruption in the city, making the lives of people harder\",\n",
    "    \"Despite the hardships the invention prevailed\",\n",
    "    \"Nobody was happy with the idea but his execuation was successful and his invention cured the disease of millions\"\n",
    "]\n",
    "\n",
    "answers = classification(sentences)\n",
    "for dicte in answers:\n",
    "    print(dicte)"
   ]
  },
  {
   "cell_type": "markdown",
   "id": "d8795695-c764-480b-967a-1e8b714e8f08",
   "metadata": {},
   "source": [
    "<h1>\n",
    "    Movie Sentimental Analysis Using The Hugging Face Dataset \n",
    "</h1>"
   ]
  },
  {
   "cell_type": "markdown",
   "id": "84285603-ead0-473e-8b6f-dd01df93d349",
   "metadata": {},
   "source": [
    "<h5>Loading the IMDB Dataset</h5>"
   ]
  },
  {
   "cell_type": "code",
   "execution_count": 11,
   "id": "dca92f9e-294b-413c-b209-c50b3bf5d9b5",
   "metadata": {},
   "outputs": [
    {
     "name": "stdout",
     "output_type": "stream",
     "text": [
      "DatasetDict({\n",
      "    train: Dataset({\n",
      "        features: ['text', 'label'],\n",
      "        num_rows: 25000\n",
      "    })\n",
      "    test: Dataset({\n",
      "        features: ['text', 'label'],\n",
      "        num_rows: 25000\n",
      "    })\n",
      "    unsupervised: Dataset({\n",
      "        features: ['text', 'label'],\n",
      "        num_rows: 50000\n",
      "    })\n",
      "})\n"
     ]
    }
   ],
   "source": [
    "\"\"\"\n",
    "The IMDB dataset comes prepackaged in Hugging Face datasets. It has 50,000 movie reviews,\n",
    "split evenly into train/test, labeled as 0 = negative, 1 = positive.\n",
    "\"\"\"\n",
    "\n",
    "from datasets import load_dataset\n",
    "\n",
    "imdb = load_dataset(\"imdb\") # Creates a Dataset Object\n",
    "print(imdb)"
   ]
  },
  {
   "cell_type": "code",
   "execution_count": 15,
   "id": "3c1b694c-679b-4d8e-b1ed-0c3f90686045",
   "metadata": {},
   "outputs": [
    {
     "name": "stdout",
     "output_type": "stream",
     "text": [
      "{'text': 'I rented I AM CURIOUS-YELLOW from my video store because of all the controversy that surrounded it when it was first released in 1967. I also heard that at first it was seized by U.S. customs if it ever tried to enter this country, therefore being a fan of films considered \"controversial\" I really had to see this for myself.<br /><br />The plot is centered around a young Swedish drama student named Lena who wants to learn everything she can about life. In particular she wants to focus her attentions to making some sort of documentary on what the average Swede thought about certain political issues such as the Vietnam War and race issues in the United States. In between asking politicians and ordinary denizens of Stockholm about their opinions on politics, she has sex with her drama teacher, classmates, and married men.<br /><br />What kills me about I AM CURIOUS-YELLOW is that 40 years ago, this was considered pornographic. Really, the sex and nudity scenes are few and far between, even then it\\'s not shot like some cheaply made porno. While my countrymen mind find it shocking, in reality sex and nudity are a major staple in Swedish cinema. Even Ingmar Bergman, arguably their answer to good old boy John Ford, had sex scenes in his films.<br /><br />I do commend the filmmakers for the fact that any sex shown in the film is shown for artistic purposes rather than just to shock people and make money to be shown in pornographic theaters in America. I AM CURIOUS-YELLOW is a good film for anyone wanting to study the meat and potatoes (no pun intended) of Swedish cinema. But really, this film doesn\\'t have much of a plot.', 'label': 0}\n"
     ]
    }
   ],
   "source": [
    "print(imdb[\"train\"][0])"
   ]
  },
  {
   "cell_type": "code",
   "execution_count": 66,
   "id": "6851c450-34c7-4d84-b356-103148130591",
   "metadata": {},
   "outputs": [
    {
     "name": "stdout",
     "output_type": "stream",
     "text": [
      "Movie Review: I rented I AM CURIOUS-YELLOW from my video store because of all the controversy ...\n",
      "Sentiment Prediction: POSITIVE, Score: 0.7872827053070068\n",
      "==============================\n",
      "Movie Review: \"I Am Curious: Yellow\" is a risible and pretentious steaming pile. It doesn't ma...\n",
      "Sentiment Prediction: NEGATIVE, Score: 0.9991909861564636\n",
      "==============================\n",
      "Movie Review: If only to avoid making this type of film in the future. This film is interestin...\n",
      "Sentiment Prediction: NEGATIVE, Score: 0.998217761516571\n",
      "==============================\n",
      "Movie Review: This film was probably inspired by Godard's Masculin, féminin and I urge you to ...\n",
      "Sentiment Prediction: POSITIVE, Score: 0.8144614696502686\n",
      "==============================\n",
      "Movie Review: Oh, brother...after hearing about this ridiculous film for umpteen years all I c...\n",
      "Sentiment Prediction: NEGATIVE, Score: 0.9993877410888672\n",
      "==============================\n"
     ]
    }
   ],
   "source": [
    "# Approach 1: Using Pandas DataFrame to do inferencing\n",
    "\n",
    "df_train = imdb[\"train\"].to_pandas()\n",
    "\n",
    "sample_train_texts = df_train[\"text\"][:5].to_list()\n",
    "predictions_list = classifier(sample_train_texts)\n",
    "\n",
    "for text, prediction_dict in zip(sample_train_texts, predictions_list):\n",
    "    print(f\"Movie Review: {text[:80]}...\")\n",
    "    print(f\"Sentiment Prediction: {prediction_dict[\"label\"]}, Score: {prediction_dict[\"score\"]}\")\n",
    "    print(\"==============================\")"
   ]
  },
  {
   "cell_type": "code",
   "execution_count": 75,
   "id": "d19b2aac-c089-427f-b03f-46260549a79c",
   "metadata": {},
   "outputs": [
    {
     "name": "stdout",
     "output_type": "stream",
     "text": [
      "Movie Review: I rented I AM CURIOUS-YELLOW from my video store because of all the controversy ...\n",
      "Sentiment Prediction: POSITIVE, Score: 0.7872827053070068\n",
      "=======================\n",
      "Movie Review: \"I Am Curious: Yellow\" is a risible and pretentious steaming pile. It doesn't ma...\n",
      "Sentiment Prediction: NEGATIVE, Score: 0.9991909861564636\n",
      "=======================\n",
      "Movie Review: If only to avoid making this type of film in the future. This film is interestin...\n",
      "Sentiment Prediction: NEGATIVE, Score: 0.998217761516571\n",
      "=======================\n",
      "Movie Review: This film was probably inspired by Godard's Masculin, féminin and I urge you to ...\n",
      "Sentiment Prediction: POSITIVE, Score: 0.8144614696502686\n",
      "=======================\n",
      "Movie Review: Oh, brother...after hearing about this ridiculous film for umpteen years all I c...\n",
      "Sentiment Prediction: NEGATIVE, Score: 0.9993877410888672\n",
      "=======================\n"
     ]
    }
   ],
   "source": [
    "# Approach 2: Directly on Hugging Face Dataset\n",
    "\n",
    "sample_dataset = imdb[\"train\"].select(range(5)) # Replication of df.head()\n",
    "\n",
    "sample_texts = list(sample_dataset[\"text\"])\n",
    "prediction_list2 = classifier(sample_texts)\n",
    "\n",
    "for text, prediction_dict in zip(sample_texts, prediction_list3):\n",
    "    print(f\"Movie Review: {text[:80]}...\")\n",
    "    print(f\"Sentiment Prediction: {prediction_dict[\"label\"]}, Score: {prediction_dict[\"score\"]}\")\n",
    "    print(\"=======================\")"
   ]
  },
  {
   "cell_type": "markdown",
   "id": "17edde31-3d38-4535-8f77-a7be9416e378",
   "metadata": {},
   "source": [
    "<h4>Preparing the test set</h3>"
   ]
  },
  {
   "cell_type": "code",
   "execution_count": 82,
   "id": "1b8cabc0-7cb5-4138-9802-4973942130d4",
   "metadata": {},
   "outputs": [
    {
     "name": "stdout",
     "output_type": "stream",
     "text": [
      "{'label': 'NEGATIVE', 'score': 0.999616265296936}\n"
     ]
    }
   ],
   "source": [
    "df_test = imdb[\"test\"].to_pandas()\n",
    "sample_text = df_test[\"text\"][:10].to_list()\n",
    "test_predictions = classifier(sample_text)\n",
    "\n",
    "print(test_predictions[0])"
   ]
  },
  {
   "cell_type": "code",
   "execution_count": 84,
   "id": "4060941c-06f8-422b-bf82-5f0517b741d8",
   "metadata": {},
   "outputs": [
    {
     "data": {
      "text/plain": [
       "0    0\n",
       "1    0\n",
       "2    0\n",
       "3    0\n",
       "4    0\n",
       "Name: label, dtype: int64"
      ]
     },
     "execution_count": 84,
     "metadata": {},
     "output_type": "execute_result"
    }
   ],
   "source": [
    "df_test[\"label\"].head()"
   ]
  },
  {
   "cell_type": "code",
   "execution_count": 89,
   "id": "bea6c4ac-3740-455f-a892-aedebbf28f16",
   "metadata": {},
   "outputs": [
    {
     "data": {
      "text/plain": [
       "[0, 0, 0, 0, 1, 0, 0, 0, 0, 0]"
      ]
     },
     "execution_count": 89,
     "metadata": {},
     "output_type": "execute_result"
    }
   ],
   "source": [
    "true_labels = df_test[\"label\"][:10].to_list() # Since getting RunTime Error, taking only\n",
    "# 10 Samples to test\n",
    "predicted_labels = [1 if prediction[\"label\"]==\"POSITIVE\" else 0 for prediction in test_predictions]\n",
    "predicted_labels"
   ]
  },
  {
   "cell_type": "code",
   "execution_count": 90,
   "id": "d865048d-e4c5-45a6-b9c4-52f2f5f288cb",
   "metadata": {},
   "outputs": [
    {
     "name": "stdout",
     "output_type": "stream",
     "text": [
      "True: 0, Predicted: 0\n",
      "True: 0, Predicted: 0\n",
      "True: 0, Predicted: 0\n",
      "True: 0, Predicted: 0\n",
      "True: 0, Predicted: 1\n",
      "True: 0, Predicted: 0\n",
      "True: 0, Predicted: 0\n",
      "True: 0, Predicted: 0\n",
      "True: 0, Predicted: 0\n",
      "True: 0, Predicted: 0\n"
     ]
    }
   ],
   "source": [
    "for true, pred in zip(true_labels, predicted_labels):\n",
    "    print(f\"True: {true}, Predicted: {pred}\")"
   ]
  },
  {
   "cell_type": "code",
   "execution_count": 92,
   "id": "af0d5904-0052-4939-b4ac-7cc99c8b0a42",
   "metadata": {},
   "outputs": [
    {
     "name": "stdout",
     "output_type": "stream",
     "text": [
      "Accuracy: 90.0\n"
     ]
    }
   ],
   "source": [
    "from sklearn.metrics import accuracy_score\n",
    "\n",
    "print(f\"Accuracy: {accuracy_score(true_labels, predicted_labels)*100}\")"
   ]
  },
  {
   "cell_type": "code",
   "execution_count": 100,
   "id": "32c84f97-b7e4-4ea5-893b-f2f769fa9728",
   "metadata": {},
   "outputs": [
    {
     "name": "stdout",
     "output_type": "stream",
     "text": [
      "Accuracy: 0.906\n"
     ]
    }
   ],
   "source": [
    "batch_size = 10\n",
    "true_labels = df_test[\"label\"][:500].to_list()\n",
    "predicted_labels = []\n",
    "\n",
    "for x in range(0, 500, batch_size):\n",
    "    batch_text = df_test[\"text\"][x:x+batch_size].to_list()\n",
    "    test_predictions = classifier(batch_text,\n",
    "                                 truncation=True, # The last words after max_tokens will be dropped\n",
    "                                 max_length=512, # Max amount of tokens the model can handle,\n",
    "                                 padding=True)\n",
    "    labels = [1 if prediction[\"label\"]==\"POSITIVE\" else 0 for prediction in test_predictions]\n",
    "    predicted_labels.extend(labels)\n",
    "\n",
    "\n",
    "print(f\"Accuracy: {accuracy_score(true_labels, predicted_labels)}\")"
   ]
  },
  {
   "cell_type": "code",
   "execution_count": null,
   "id": "653150de-873d-4544-8544-36380f9fb380",
   "metadata": {},
   "outputs": [],
   "source": []
  },
  {
   "cell_type": "code",
   "execution_count": null,
   "id": "f2bbfba2-fb9d-4bca-8f26-dc7f99f98a15",
   "metadata": {},
   "outputs": [],
   "source": []
  }
 ],
 "metadata": {
  "kernelspec": {
   "display_name": "Python 3 (ipykernel)",
   "language": "python",
   "name": "python3"
  },
  "language_info": {
   "codemirror_mode": {
    "name": "ipython",
    "version": 3
   },
   "file_extension": ".py",
   "mimetype": "text/x-python",
   "name": "python",
   "nbconvert_exporter": "python",
   "pygments_lexer": "ipython3",
   "version": "3.12.3"
  }
 },
 "nbformat": 4,
 "nbformat_minor": 5
}
