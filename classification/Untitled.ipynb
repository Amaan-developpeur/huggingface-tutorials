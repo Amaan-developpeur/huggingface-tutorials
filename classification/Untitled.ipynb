{
 "cells": [
  {
   "cell_type": "code",
   "execution_count": 31,
   "id": "7526a55e-9b29-44ad-a68b-c1b381b19712",
   "metadata": {},
   "outputs": [
    {
     "name": "stderr",
     "output_type": "stream",
     "text": [
      "No model was supplied, defaulted to distilbert/distilbert-base-uncased-finetuned-sst-2-english and revision 714eb0f (https://huggingface.co/distilbert/distilbert-base-uncased-finetuned-sst-2-english).\n",
      "Using a pipeline without specifying a model name and revision in production is not recommended.\n",
      "Device set to use cpu\n"
     ]
    }
   ],
   "source": [
    "import warnings\n",
    "import pandas as pd\n",
    "from transformers import pipeline\n",
    "from datasets import load_dataset\n",
    "from sklearn.metrics import accuracy_score\n",
    "\n",
    "warnings.filterwarnings(\"ignore\")\n",
    "\n",
    "IMDB = load_dataset(\"IMDB\")\n",
    "texts = IMDB[\"test\"][\"text\"][:500]\n",
    "true_labels = IMDB[\"test\"][\"label\"][:500]\n",
    "\n",
    "\n",
    "classifer = pipeline(\"text-classification\")\n",
    "predictions = classifier(texts, batch_size=16, truncation=True)\n",
    "\n",
    "predicted_labels = [1 if prediction_dict[\"label\"]==\"POSITIVE\" else 0 for prediction_dict in predictions]"
   ]
  },
  {
   "cell_type": "code",
   "execution_count": 32,
   "id": "7c743fd1-c837-41ad-917c-87915f16b4bd",
   "metadata": {},
   "outputs": [
    {
     "data": {
      "text/plain": [
       "list"
      ]
     },
     "execution_count": 32,
     "metadata": {},
     "output_type": "execute_result"
    }
   ],
   "source": [
    "type(true_labels)"
   ]
  },
  {
   "cell_type": "code",
   "execution_count": 33,
   "id": "4c456d78-375c-4269-a391-ff44d02ec9a4",
   "metadata": {},
   "outputs": [
    {
     "name": "stdout",
     "output_type": "stream",
     "text": [
      "0.906\n"
     ]
    }
   ],
   "source": [
    "print(accuracy_score(true_labels, predicted_labels))"
   ]
  },
  {
   "cell_type": "code",
   "execution_count": null,
   "id": "7298514b-f355-4e50-8dfa-92d661ef0d25",
   "metadata": {},
   "outputs": [],
   "source": []
  }
 ],
 "metadata": {
  "kernelspec": {
   "display_name": "Python 3 (ipykernel)",
   "language": "python",
   "name": "python3"
  },
  "language_info": {
   "codemirror_mode": {
    "name": "ipython",
    "version": 3
   },
   "file_extension": ".py",
   "mimetype": "text/x-python",
   "name": "python",
   "nbconvert_exporter": "python",
   "pygments_lexer": "ipython3",
   "version": "3.12.3"
  }
 },
 "nbformat": 4,
 "nbformat_minor": 5
}
