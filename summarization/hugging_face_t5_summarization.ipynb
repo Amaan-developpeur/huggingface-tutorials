{
 "cells": [
  {
   "cell_type": "markdown",
   "id": "5c4fa8bc-41b7-4969-9016-d4089dcb1c4d",
   "metadata": {},
   "source": [
    "<ul>\n",
    "    <li>Text Summarization using an encoder-decoder model t5-small</li>\n",
    "</ul>"
   ]
  },
  {
   "cell_type": "code",
   "execution_count": 1,
   "id": "6201aec3-017a-41b8-a00e-2333dc3fb3ea",
   "metadata": {},
   "outputs": [
    {
     "data": {
      "application/vnd.jupyter.widget-view+json": {
       "model_id": "1d03967a59e24e4bb46fedaa083d6d1e",
       "version_major": 2,
       "version_minor": 0
      },
      "text/plain": [
       "config.json:   0%|          | 0.00/1.21k [00:00<?, ?B/s]"
      ]
     },
     "metadata": {},
     "output_type": "display_data"
    },
    {
     "name": "stderr",
     "output_type": "stream",
     "text": [
      "C:\\Users\\DELL\\anaconda3\\Lib\\site-packages\\huggingface_hub\\file_download.py:143: UserWarning: `huggingface_hub` cache-system uses symlinks by default to efficiently store duplicated files but your machine does not support them in C:\\Users\\DELL\\.cache\\huggingface\\hub\\models--t5-small. Caching files will still work but in a degraded version that might require more space on your disk. This warning can be disabled by setting the `HF_HUB_DISABLE_SYMLINKS_WARNING` environment variable. For more details, see https://huggingface.co/docs/huggingface_hub/how-to-cache#limitations.\n",
      "To support symlinks on Windows, you either need to activate Developer Mode or to run Python as an administrator. In order to activate developer mode, see this article: https://docs.microsoft.com/en-us/windows/apps/get-started/enable-your-device-for-development\n",
      "  warnings.warn(message)\n",
      "Xet Storage is enabled for this repo, but the 'hf_xet' package is not installed. Falling back to regular HTTP download. For better performance, install the package with: `pip install huggingface_hub[hf_xet]` or `pip install hf_xet`\n"
     ]
    },
    {
     "data": {
      "application/vnd.jupyter.widget-view+json": {
       "model_id": "5fd8183868c649c8a2593ad57025264a",
       "version_major": 2,
       "version_minor": 0
      },
      "text/plain": [
       "model.safetensors:   0%|          | 0.00/242M [00:00<?, ?B/s]"
      ]
     },
     "metadata": {},
     "output_type": "display_data"
    },
    {
     "data": {
      "application/vnd.jupyter.widget-view+json": {
       "model_id": "5b45696f8a3b4ddda4a32962aeb468a4",
       "version_major": 2,
       "version_minor": 0
      },
      "text/plain": [
       "generation_config.json:   0%|          | 0.00/147 [00:00<?, ?B/s]"
      ]
     },
     "metadata": {},
     "output_type": "display_data"
    },
    {
     "data": {
      "application/vnd.jupyter.widget-view+json": {
       "model_id": "1b25545999354055a1989dbbc1e69d72",
       "version_major": 2,
       "version_minor": 0
      },
      "text/plain": [
       "tokenizer_config.json:   0%|          | 0.00/2.32k [00:00<?, ?B/s]"
      ]
     },
     "metadata": {},
     "output_type": "display_data"
    },
    {
     "data": {
      "application/vnd.jupyter.widget-view+json": {
       "model_id": "d746295096d44aa8af63cda5e1fab8c6",
       "version_major": 2,
       "version_minor": 0
      },
      "text/plain": [
       "spiece.model:   0%|          | 0.00/792k [00:00<?, ?B/s]"
      ]
     },
     "metadata": {},
     "output_type": "display_data"
    },
    {
     "data": {
      "application/vnd.jupyter.widget-view+json": {
       "model_id": "13cb98f167ef44e2aaccc4e19276c5b3",
       "version_major": 2,
       "version_minor": 0
      },
      "text/plain": [
       "tokenizer.json:   0%|          | 0.00/1.39M [00:00<?, ?B/s]"
      ]
     },
     "metadata": {},
     "output_type": "display_data"
    },
    {
     "name": "stderr",
     "output_type": "stream",
     "text": [
      "Device set to use cpu\n",
      "Both `max_new_tokens` (=256) and `max_length`(=100) seem to have been set. `max_new_tokens` will take precedence. Please refer to the documentation for more information. (https://huggingface.co/docs/transformers/main/en/main_classes/text_generation)\n"
     ]
    },
    {
     "name": "stdout",
     "output_type": "stream",
     "text": [
      "[{'summary_text': \"AGI is a theoretical concept for an AI with human-level adaptability and versatility capable of learning and performing a wide variety of intellectual tasks autonomously . if achieved, AGI could lead to groundbreaking discoveries and solutions for humanity's biggest challenges, from curing diseases to exploring space .\"}]\n"
     ]
    }
   ],
   "source": [
    "from transformers import pipeline\n",
    "\n",
    "# Loading the Model and the Pipeline\n",
    "summarizer = pipeline(\"summarization\", model=\"t5-small\")\n",
    "\n",
    "\n",
    "# Preparing Text to Summarize\n",
    "text = \"\"\" \n",
    "AGI (Artificial General Intelligence) refers to the hypothetical ability of a machine to understand, learn, and apply intelligence to any \n",
    "intellectual task that a human can perform, mimicking human cognitive abilities across a broad range of domains rather than being limited \n",
    "to specific, narrow tasks like current AI systems. While today's AI excels at defined tasks, AGI would possess human-level generalization, \n",
    "common sense, and the capacity for self-improvement in novel situations, remaining a theoretical concept and a long-term research goal for \n",
    "creating truly versatile and adaptable AI systems. \n",
    "Key Characteristics of AGI\n",
    "Human-Level Cognitive Abilities: AGI would match or surpass human capabilities in learning, reasoning, problem-solving, and creativity across diverse fields. \n",
    "Generalization: It could transfer knowledge and skills learned in one context to new, unpredicted situations, adapting and learning continuously. \n",
    "Common Sense: AGI would possess a vast store of world knowledge, including relationships and social norms, to make informed decisions and judgments. \n",
    "Autonomous Learning: Unlike narrow AI, AGI would be able to self-teach new skills and adapt to environments without specific pre-programming for every potential task. \n",
    "AGI vs. Current AI\n",
    "Current AI (Narrow AI): Designed for specific tasks, such as image recognition, language translation, or playing chess. It is limited to its trained parameters. \n",
    "AGI (General AI): A theoretical concept for an AI with human-level adaptability and versatility, capable of learning and performing a wide variety of intellectual tasks autonomously. \n",
    "The Goal and Potential Impact\n",
    "The pursuit of AGI involves interdisciplinary fields like computer science, neuroscience, and cognitive psychology. \n",
    "If achieved, AGI could lead to groundbreaking discoveries and solutions for humanity's biggest challenges, from curing diseases to exploring space. \n",
    "However, the development of safe and ethical AGI, with considerations for human values and safeguards, is a significant challenge and a crucial aspect of future research. \n",
    "\"\"\"\n",
    "\n",
    "\n",
    "Summary = summarizer(text, max_length=100, min_length=40, do_sample=False)\n",
    "# do_sample=False ----> No randomness, model always gives same answer for same input (deterministic)\n",
    "\n",
    "print(Summary)"
   ]
  },
  {
   "cell_type": "code",
   "execution_count": 2,
   "id": "2dbf6d56-d463-46f3-9397-082a1bbdcbb9",
   "metadata": {},
   "outputs": [
    {
     "data": {
      "application/vnd.jupyter.widget-view+json": {
       "model_id": "a498cfbdf90845728794b13d448a5f1f",
       "version_major": 2,
       "version_minor": 0
      },
      "text/plain": [
       "config.json:   0%|          | 0.00/1.21k [00:00<?, ?B/s]"
      ]
     },
     "metadata": {},
     "output_type": "display_data"
    },
    {
     "name": "stderr",
     "output_type": "stream",
     "text": [
      "C:\\Users\\DELL\\anaconda3\\Lib\\site-packages\\huggingface_hub\\file_download.py:143: UserWarning: `huggingface_hub` cache-system uses symlinks by default to efficiently store duplicated files but your machine does not support them in C:\\Users\\DELL\\.cache\\huggingface\\hub\\models--t5-base. Caching files will still work but in a degraded version that might require more space on your disk. This warning can be disabled by setting the `HF_HUB_DISABLE_SYMLINKS_WARNING` environment variable. For more details, see https://huggingface.co/docs/huggingface_hub/how-to-cache#limitations.\n",
      "To support symlinks on Windows, you either need to activate Developer Mode or to run Python as an administrator. In order to activate developer mode, see this article: https://docs.microsoft.com/en-us/windows/apps/get-started/enable-your-device-for-development\n",
      "  warnings.warn(message)\n",
      "Xet Storage is enabled for this repo, but the 'hf_xet' package is not installed. Falling back to regular HTTP download. For better performance, install the package with: `pip install huggingface_hub[hf_xet]` or `pip install hf_xet`\n"
     ]
    },
    {
     "data": {
      "application/vnd.jupyter.widget-view+json": {
       "model_id": "77829fec03ce46308912d6b7d1e2e7f5",
       "version_major": 2,
       "version_minor": 0
      },
      "text/plain": [
       "model.safetensors:   0%|          | 0.00/892M [00:00<?, ?B/s]"
      ]
     },
     "metadata": {},
     "output_type": "display_data"
    },
    {
     "data": {
      "application/vnd.jupyter.widget-view+json": {
       "model_id": "e51283fa4e7c407ebafd763537f4176c",
       "version_major": 2,
       "version_minor": 0
      },
      "text/plain": [
       "generation_config.json:   0%|          | 0.00/147 [00:00<?, ?B/s]"
      ]
     },
     "metadata": {},
     "output_type": "display_data"
    },
    {
     "data": {
      "application/vnd.jupyter.widget-view+json": {
       "model_id": "de834d9ffa694286900bd0627449cf04",
       "version_major": 2,
       "version_minor": 0
      },
      "text/plain": [
       "spiece.model:   0%|          | 0.00/792k [00:00<?, ?B/s]"
      ]
     },
     "metadata": {},
     "output_type": "display_data"
    },
    {
     "data": {
      "application/vnd.jupyter.widget-view+json": {
       "model_id": "06c859132bab4ba7a311ce5137c6bbee",
       "version_major": 2,
       "version_minor": 0
      },
      "text/plain": [
       "tokenizer.json:   0%|          | 0.00/1.39M [00:00<?, ?B/s]"
      ]
     },
     "metadata": {},
     "output_type": "display_data"
    },
    {
     "name": "stderr",
     "output_type": "stream",
     "text": [
      "Device set to use cpu\n",
      "Both `max_new_tokens` (=256) and `max_length`(=100) seem to have been set. `max_new_tokens` will take precedence. Please refer to the documentation for more information. (https://huggingface.co/docs/transformers/main/en/main_classes/text_generation)\n"
     ]
    },
    {
     "name": "stdout",
     "output_type": "stream",
     "text": [
      "[{'summary_text': \"artificial general intelligence (AGI) is a hypothetical ability of a machine to understand, learn, and apply intelligence to any intellectual task that a human can perform . if achieved, AGI could lead to groundbreaking discoveries and solutions for humanity's biggest challenges . the pursuit of safe and ethical AGI involves interdisciplinary fields like computer science, neuroscience, and cognitive psychology.\"}]\n"
     ]
    }
   ],
   "source": [
    "# Comparing \"t5-small\" and \"t5-base\"\n",
    "\n",
    "\n",
    "from transformers import pipeline\n",
    "\n",
    "# Loading the Model and the Pipeline\n",
    "summarizer = pipeline(\"summarization\", model=\"t5-base\")\n",
    "\n",
    "\n",
    "# Preparing Text to Summarize\n",
    "text = \"\"\" \n",
    "AGI (Artificial General Intelligence) refers to the hypothetical ability of a machine to understand, learn, and apply intelligence to any \n",
    "intellectual task that a human can perform, mimicking human cognitive abilities across a broad range of domains rather than being limited \n",
    "to specific, narrow tasks like current AI systems. While today's AI excels at defined tasks, AGI would possess human-level generalization, \n",
    "common sense, and the capacity for self-improvement in novel situations, remaining a theoretical concept and a long-term research goal for \n",
    "creating truly versatile and adaptable AI systems. \n",
    "Key Characteristics of AGI\n",
    "Human-Level Cognitive Abilities: AGI would match or surpass human capabilities in learning, reasoning, problem-solving, and creativity across diverse fields. \n",
    "Generalization: It could transfer knowledge and skills learned in one context to new, unpredicted situations, adapting and learning continuously. \n",
    "Common Sense: AGI would possess a vast store of world knowledge, including relationships and social norms, to make informed decisions and judgments. \n",
    "Autonomous Learning: Unlike narrow AI, AGI would be able to self-teach new skills and adapt to environments without specific pre-programming for every potential task. \n",
    "AGI vs. Current AI\n",
    "Current AI (Narrow AI): Designed for specific tasks, such as image recognition, language translation, or playing chess. It is limited to its trained parameters. \n",
    "AGI (General AI): A theoretical concept for an AI with human-level adaptability and versatility, capable of learning and performing a wide variety of intellectual tasks autonomously. \n",
    "The Goal and Potential Impact\n",
    "The pursuit of AGI involves interdisciplinary fields like computer science, neuroscience, and cognitive psychology. \n",
    "If achieved, AGI could lead to groundbreaking discoveries and solutions for humanity's biggest challenges, from curing diseases to exploring space. \n",
    "However, the development of safe and ethical AGI, with considerations for human values and safeguards, is a significant challenge and a crucial aspect of future research. \n",
    "\"\"\"\n",
    "\n",
    "\n",
    "Summary = summarizer(text, max_length=100, min_length=40, do_sample=False)\n",
    "# do_sample=False ----> No randomness, model always gives same answer for same input (deterministic)\n",
    "\n",
    "print(Summary)"
   ]
  },
  {
   "cell_type": "code",
   "execution_count": null,
   "id": "4cdb6771-0bc0-4808-a37f-3ecb758055ae",
   "metadata": {},
   "outputs": [],
   "source": []
  }
 ],
 "metadata": {
  "kernelspec": {
   "display_name": "Python 3 (ipykernel)",
   "language": "python",
   "name": "python3"
  },
  "language_info": {
   "codemirror_mode": {
    "name": "ipython",
    "version": 3
   },
   "file_extension": ".py",
   "mimetype": "text/x-python",
   "name": "python",
   "nbconvert_exporter": "python",
   "pygments_lexer": "ipython3",
   "version": "3.12.3"
  }
 },
 "nbformat": 4,
 "nbformat_minor": 5
}
